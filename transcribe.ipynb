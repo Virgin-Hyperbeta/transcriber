{
  "cells": [
    {
      "cell_type": "code",
      "source": [
        "! pip install git+https://github.com/openai/whisper.git -q\n",
        "from google.colab import files\n",
        "import whisper\n",
        "\n",
        "model = whisper.load_model(\"large\")\n",
        "for input_filename in files.upload():\n",
        "  output_filename = input_filename + \".txt\"\n",
        "  x = model.transcribe(input_filename, language = \"Japanese\")\n",
        "\n",
        "  with open(output_filename, 'w') as f:\n",
        "    f.write(x[\"text\"])\n",
        "  \n",
        "  files.download(output_filename)"
      ],
      "metadata": {
        "id": "uhvlIActC3rI"
      },
      "execution_count": null,
      "outputs": []
    }
  ],
  "metadata": {
    "accelerator": "GPU",
    "colab": {
      "collapsed_sections": [],
      "provenance": []
    },
    "gpuClass": "standard",
    "kernelspec": {
      "display_name": "Python 3 (ipykernel)",
      "language": "python",
      "name": "python3"
    },
    "language_info": {
      "codemirror_mode": {
        "name": "ipython",
        "version": 3
      },
      "file_extension": ".py",
      "mimetype": "text/x-python",
      "name": "python",
      "nbconvert_exporter": "python",
      "pygments_lexer": "ipython3",
      "version": "3.9.9"
    }
  },
  "nbformat": 4,
  "nbformat_minor": 0
}